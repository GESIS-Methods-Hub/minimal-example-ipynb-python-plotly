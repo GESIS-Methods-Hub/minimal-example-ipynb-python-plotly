{
 "cells": [
  {
   "cell_type": "raw",
   "id": "6a68545b-f14c-46af-8fd5-3a303710ddd2",
   "metadata": {
    "vscode": {
     "languageId": "raw"
    }
   },
   "source": [
    "---\n",
    "title: \"Minimal Example of Tutorial in Jupyter Notebook (using Quarto Markdown) with Python and Plotly\"\n",
    "author: Raniere Silva\n",
    "image: img/cover.jpg\n",
    "image-alt: Green snake.\n",
    "---"
   ]
  },
  {
   "attachments": {},
   "cell_type": "markdown",
   "id": "be35f2aa-c8e8-4c9a-9375-8ab72b5e33a4",
   "metadata": {},
   "source": [
    "This example illustrates all the **required** metadata used by [`andrew`](https://github.com/GESIS-Methods-Hub/andrew) for a tutorial written as a Jupyter Notebook [@jupyter2021]."
   ]
  },
  {
   "attachments": {},
   "cell_type": "markdown",
   "id": "80ff7c64",
   "metadata": {},
   "source": [
    "Although footnotes are supported, the use of footnotes is discouraged[^1].\n",
    "\n",
    "[^1]: Because of it makes navigation harder."
   ]
  },
  {
   "attachments": {},
   "cell_type": "markdown",
   "id": "d37f15e2",
   "metadata": {},
   "source": [
    "Math can be written using [LaTeX](https://www.latex-project.org/) and is render by [MathJax](https://www.mathjax.org/). Both inline, for example $x$, and standalone, for example $$x = \\sqrt{a^2 + b^2}\\text{,}$$ is supported."
   ]
  },
  {
   "attachments": {},
   "cell_type": "markdown",
   "id": "23d37c50",
   "metadata": {},
   "source": [
    "::: {.callout-important}\n",
    "\n",
    "We recommend to install and use [Quarto JupyterLab Extension](https://quarto.org/docs/tools/jupyter-lab-extension.html) for a preview of the content closer to the final output.\n",
    "\n",
    ":::"
   ]
  },
  {
   "attachments": {},
   "cell_type": "markdown",
   "id": "fd3444f7",
   "metadata": {},
   "source": [
    "Cross reference of figures, tables, equations, ... is also supported. For example, see @fig-north.\n",
    "\n",
    "![Photo of weathercock by Mat Brown. Available at <https://www.pexels.com/photo/silhouette-of-wind-vane-552600/>.](img/north.jpg){#fig-north}"
   ]
  },
  {
   "attachments": {},
   "cell_type": "markdown",
   "id": "226bc283",
   "metadata": {},
   "source": [
    "## Execution of Python code"
   ]
  },
  {
   "cell_type": "markdown",
   "id": "d9295b92",
   "metadata": {
    "user_expressions": [
     {
      "expression": "1 + 1",
      "result": {
       "data": {
        "text/plain": "2"
       },
       "metadata": {},
       "status": "ok"
      }
     }
    ]
   },
   "source": [
    "Python code can be executed and the output can be included inline, for example `1 + 1` is equal to `{python} 1 + 1`, and standalone, for example"
   ]
  },
  {
   "cell_type": "code",
   "execution_count": null,
   "id": "ef50c824-f91a-4986-a87b-af213d24b23b",
   "metadata": {},
   "outputs": [],
   "source": [
    "a = 1\n",
    "b = 1\n",
    "\n",
    "a + b"
   ]
  },
  {
   "attachments": {},
   "cell_type": "markdown",
   "id": "bedf15e4",
   "metadata": {},
   "source": [
    "Annotation of code blocks is also supported. For example,\n",
    "\n",
    "```python\n",
    "(3 // 2) != (3 % 2) # <1>\n",
    "```\n",
    "1. `%` calculates the remainder on integer division."
   ]
  },
  {
   "attachments": {},
   "cell_type": "markdown",
   "id": "d407a703",
   "metadata": {},
   "source": [
    "## Creation of figure with Python\n",
    "\n",
    "The next code was sourced from [Plotly's documentation](https://plotly.com/python/line-and-scatter/)."
   ]
  },
  {
   "cell_type": "code",
   "execution_count": null,
   "id": "f2c34406",
   "metadata": {},
   "outputs": [],
   "source": [
    "import plotly.express as px\n",
    "df = px.data.iris() # iris is a pandas DataFrame\n",
    "fig = px.scatter(df, x=\"sepal_width\", y=\"sepal_length\")\n",
    "fig.show()"
   ]
  },
  {
   "attachments": {},
   "cell_type": "markdown",
   "id": "5bc28f3c",
   "metadata": {},
   "source": [
    "## Binder\n",
    "\n",
    "The link to Binder will launch the default [JupyterLab IDE](https://jupyterlab.readthedocs.io/)."
   ]
  },
  {
   "cell_type": "raw",
   "id": "1f3e25cd",
   "metadata": {},
   "source": [
    "## References\n",
    "\n",
    "::: {#refs}\n",
    ":::"
   ]
  }
 ],
 "metadata": {
  "kernelspec": {
   "display_name": "Python 3 (ipykernel)",
   "language": "python",
   "name": "python3"
  },
  "language_info": {
   "codemirror_mode": {
    "name": "ipython",
    "version": 3
   },
   "file_extension": ".py",
   "mimetype": "text/x-python",
   "name": "python",
   "nbconvert_exporter": "python",
   "pygments_lexer": "ipython3",
   "version": "3.11.4"
  }
 },
 "nbformat": 4,
 "nbformat_minor": 5
}
